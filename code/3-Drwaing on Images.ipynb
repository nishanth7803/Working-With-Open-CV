{
 "cells": [
  {
   "cell_type": "code",
   "execution_count": 1,
   "id": "42e5ffba",
   "metadata": {},
   "outputs": [],
   "source": [
    "import cv2"
   ]
  },
  {
   "cell_type": "code",
   "execution_count": 2,
   "id": "aea84c9f",
   "metadata": {},
   "outputs": [
    {
     "data": {
      "text/plain": [
       "(512, 512, 3)"
      ]
     },
     "execution_count": 2,
     "metadata": {},
     "output_type": "execute_result"
    }
   ],
   "source": [
    "img = cv2.imread('lena.jpg',1)\n",
    "img.shape"
   ]
  },
  {
   "cell_type": "code",
   "execution_count": 3,
   "id": "396c27ca",
   "metadata": {},
   "outputs": [],
   "source": [
    "# Drwaing a line\n",
    "\n",
    "cv2.line(img,(0,0),(512,512),(255,255,255),2)\n",
    "\n",
    "#2nd and 3rd parameters are the start and end co-ordinates,4th parameter is the BGR channel(color),5th paramter is the thickness\n",
    "#you can select any color and give its tupules from web\n",
    "\n",
    "cv2.arrowedLine(img,(0,512),(400,0),(165,183,91),2) # Drawing an arrowed line\n",
    "\n",
    "cv2.imshow('image',img)\n",
    "cv2.waitKey(0)\n",
    "cv2.destroyAllWindows()"
   ]
  },
  {
   "cell_type": "code",
   "execution_count": 4,
   "id": "6a475199",
   "metadata": {},
   "outputs": [],
   "source": [
    "# Rectangle\n",
    "\n",
    "# 2nd parameter is the top left co-ordinate, 3rd parameter is the bottom right co=ordinate co-ordinates,\n",
    "# 4th parameter is the BGR channel(color),5th paramter is the thickness\n",
    "cv2.rectangle(img,(200,0),(312,400),(165,183,91),2)\n",
    "# giving -1 as 5th parameter fills the rectangle with given color\n",
    "cv2.rectangle(img,(200,410),(312,500),(165,183,91),-1)\n",
    "\n",
    "cv2.imshow('image',img)\n",
    "cv2.waitKey(0)\n",
    "cv2.destroyAllWindows()"
   ]
  },
  {
   "cell_type": "code",
   "execution_count": 5,
   "id": "b6b62d57",
   "metadata": {},
   "outputs": [],
   "source": [
    "# Circle\n",
    "\n",
    "# parameters are img, center, radius, color channel, thickness/-1(for filling the circle)\n",
    "cv2.circle(img, (256, 455), 63, (236,73,18), -1)\n",
    "\n",
    "cv2.imshow('image',img)\n",
    "cv2.waitKey(0)\n",
    "cv2.destroyAllWindows()"
   ]
  },
  {
   "cell_type": "code",
   "execution_count": 6,
   "id": "f0a8c053",
   "metadata": {},
   "outputs": [],
   "source": [
    "# Adding Text\n",
    "\n",
    "font = cv2.FONT_HERSHEY_COMPLEX\n",
    "\n",
    "cv2.putText(img,'Open-CV',(10,500),font,2,(255,255,255),5,cv2.LINE_4)\n",
    "\n",
    "cv2.imshow('image',img)\n",
    "cv2.waitKey(0)\n",
    "cv2.destroyAllWindows()"
   ]
  },
  {
   "cell_type": "code",
   "execution_count": 7,
   "id": "bac7dcac",
   "metadata": {},
   "outputs": [],
   "source": [
    "# Performing all the above operations on a black image which we create using numpy\n",
    "\n",
    "import numpy as np\n",
    "\n",
    "img = np.zeros([512,512,3], np.uint8) # Creating the black image\n",
    "\n",
    "cv2.line(img,(0,0),(512,512),(255,255,255),2)\n",
    "cv2.arrowedLine(img,(0,512),(400,0),(165,183,91),2)\n",
    "\n",
    "cv2.rectangle(img,(200,0),(312,400),(165,183,91),2)\n",
    "cv2.rectangle(img,(200,410),(312,500),(165,183,91),-1)\n",
    "\n",
    "cv2.circle(img, (256, 455), 63, (236,73,18), -1)\n",
    "\n",
    "font = cv2.FONT_HERSHEY_COMPLEX\n",
    "\n",
    "cv2.putText(img,'Open-CV',(10,500),font,2,(255,255,255),5,cv2.LINE_4)\n",
    "\n",
    "cv2.imshow('image',img)\n",
    "cv2.waitKey(0)\n",
    "cv2.destroyAllWindows()"
   ]
  },
  {
   "cell_type": "code",
   "execution_count": null,
   "id": "8bf91595",
   "metadata": {},
   "outputs": [],
   "source": []
  }
 ],
 "metadata": {
  "kernelspec": {
   "display_name": "Python 3 (ipykernel)",
   "language": "python",
   "name": "python3"
  },
  "language_info": {
   "codemirror_mode": {
    "name": "ipython",
    "version": 3
   },
   "file_extension": ".py",
   "mimetype": "text/x-python",
   "name": "python",
   "nbconvert_exporter": "python",
   "pygments_lexer": "ipython3",
   "version": "3.9.12"
  }
 },
 "nbformat": 4,
 "nbformat_minor": 5
}
