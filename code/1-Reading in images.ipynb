{
 "cells": [
  {
   "cell_type": "code",
   "execution_count": 1,
   "id": "dffd2edb",
   "metadata": {},
   "outputs": [],
   "source": [
    "import cv2"
   ]
  },
  {
   "cell_type": "code",
   "execution_count": 2,
   "id": "03def6c9",
   "metadata": {},
   "outputs": [
    {
     "name": "stdout",
     "output_type": "stream",
     "text": [
      "[[163 162 161 ... 170 154 130]\n",
      " [162 162 162 ... 173 155 126]\n",
      " [162 162 163 ... 170 155 128]\n",
      " ...\n",
      " [ 43  42  51 ... 103 101  99]\n",
      " [ 41  42  55 ... 103 105 106]\n",
      " [ 42  44  57 ... 102 106 109]]\n"
     ]
    }
   ],
   "source": [
    "# 1st parameter in the bracket stands for file name\n",
    "# 2nd paramter can take 3 values - 0: loads imagein gray scale, 1: loads image in BGR channel, -1: loads image as it is\n",
    "\n",
    "img = cv2.imread('lena.jpg',0)\n",
    "print(img)"
   ]
  },
  {
   "cell_type": "code",
   "execution_count": 3,
   "id": "40aa9d28",
   "metadata": {},
   "outputs": [],
   "source": [
    "cv2.imshow('image',img) # first parametr stands for the name of the window where the image is displayed\n",
    "cv2.waitKey(5000) # waits for 5000 milliseconds, i.e 5 seconds and closes the image window automatically\n",
    "cv2.destroyAllWindows()"
   ]
  },
  {
   "cell_type": "code",
   "execution_count": 4,
   "id": "d61148f2",
   "metadata": {},
   "outputs": [],
   "source": [
    "img = cv2.imread('lena.jpg',1)\n",
    "cv2.imshow('image',img)\n",
    "cv2.waitKey(0) # waits for any key to be pressed on the keyboard, then closes the image window\n",
    "cv2.destroyAllWindows()"
   ]
  },
  {
   "cell_type": "code",
   "execution_count": null,
   "id": "d99766e0",
   "metadata": {},
   "outputs": [],
   "source": []
  }
 ],
 "metadata": {
  "kernelspec": {
   "display_name": "Python 3 (ipykernel)",
   "language": "python",
   "name": "python3"
  },
  "language_info": {
   "codemirror_mode": {
    "name": "ipython",
    "version": 3
   },
   "file_extension": ".py",
   "mimetype": "text/x-python",
   "name": "python",
   "nbconvert_exporter": "python",
   "pygments_lexer": "ipython3",
   "version": "3.9.12"
  }
 },
 "nbformat": 4,
 "nbformat_minor": 5
}
