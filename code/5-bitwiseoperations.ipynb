{
 "cells": [
  {
   "cell_type": "markdown",
   "id": "b8927668",
   "metadata": {},
   "source": [
    "**Bitwise operations are used when working with MASKS\n",
    "Masks are binary images that indicates the pixel in which the operation is to be performed**"
   ]
  },
  {
   "cell_type": "code",
   "execution_count": 1,
   "id": "0d1e6c79",
   "metadata": {},
   "outputs": [],
   "source": [
    "import cv2"
   ]
  },
  {
   "cell_type": "code",
   "execution_count": 7,
   "id": "88ae1d2f",
   "metadata": {},
   "outputs": [],
   "source": [
    "img1 = cv2.imread('messi5.jpg')\n",
    "img2 = cv2.imread('opencv-logo.png')\n",
    "\n",
    "\n",
    "img1 = cv2.resize(img1, (512,512))\n",
    "img2 = cv2.resize(img2, (512,512))"
   ]
  },
  {
   "cell_type": "code",
   "execution_count": 8,
   "id": "c253c393",
   "metadata": {},
   "outputs": [],
   "source": [
    "bitand = cv2.bitwise_and(img1,img2)"
   ]
  },
  {
   "cell_type": "code",
   "execution_count": 10,
   "id": "0253d1e8",
   "metadata": {},
   "outputs": [],
   "source": [
    "bitor = cv2.bitwise_or(img1,img2)"
   ]
  },
  {
   "cell_type": "code",
   "execution_count": 12,
   "id": "7182c1ac",
   "metadata": {},
   "outputs": [],
   "source": [
    "bitxor = cv2.bitwise_xor(img1,img2)"
   ]
  },
  {
   "cell_type": "code",
   "execution_count": 13,
   "id": "780cccb4",
   "metadata": {},
   "outputs": [],
   "source": [
    "bitnot1 = cv2.bitwise_not(img1)\n",
    "bitnot2 = cv2.bitwise_not(img2)"
   ]
  },
  {
   "cell_type": "code",
   "execution_count": 14,
   "id": "7a8ba1d4",
   "metadata": {},
   "outputs": [],
   "source": [
    "cv2.imshow('img1',img1)\n",
    "cv2.imshow('img2',img2)\n",
    "cv2.imshow('and',bitand)\n",
    "cv2.imshow('or',bitor)\n",
    "cv2.imshow('xor',bitxor)\n",
    "cv2.imshow('not1',bitnot1)\n",
    "cv2.imshow('not2',bitnot2)\n",
    "\n",
    "cv2.waitKey(0)\n",
    "cv2.destroyAllWindows()"
   ]
  },
  {
   "cell_type": "code",
   "execution_count": null,
   "id": "39f4fd9b",
   "metadata": {},
   "outputs": [],
   "source": []
  }
 ],
 "metadata": {
  "kernelspec": {
   "display_name": "Python 3 (ipykernel)",
   "language": "python",
   "name": "python3"
  },
  "language_info": {
   "codemirror_mode": {
    "name": "ipython",
    "version": 3
   },
   "file_extension": ".py",
   "mimetype": "text/x-python",
   "name": "python",
   "nbconvert_exporter": "python",
   "pygments_lexer": "ipython3",
   "version": "3.9.12"
  }
 },
 "nbformat": 4,
 "nbformat_minor": 5
}
