{
 "cells": [
  {
   "cell_type": "markdown",
   "id": "a06b8207",
   "metadata": {},
   "source": [
    "**This code deals with capturing video using your default webcam**"
   ]
  },
  {
   "cell_type": "code",
   "execution_count": 1,
   "id": "7c90c0fd",
   "metadata": {},
   "outputs": [],
   "source": [
    "import cv2"
   ]
  },
  {
   "cell_type": "code",
   "execution_count": 2,
   "id": "17cc9dcf",
   "metadata": {},
   "outputs": [
    {
     "name": "stdout",
     "output_type": "stream",
     "text": [
      "640.0\n",
      "480.0\n"
     ]
    }
   ],
   "source": [
    "cap = cv2.VideoCapture(0) # 0 indicates the default webcam\n",
    "while(True):\n",
    "    ret,frame = cap.read() # image Frames are stored in frame and ret is TRUE if a Frame is available\n",
    "    cv2.imshow('frame',frame) # displays the frames one by one(video)\n",
    "    if cv2.waitKey(1) & 0xFF == ord('e'): # if you press 'e' key, then the loop breaks and the window closes\n",
    "        break\n",
    "print(cap.get(cv2.CAP_PROP_FRAME_WIDTH)) # gives the width of the frame\n",
    "print(cap.get(cv2.CAP_PROP_FRAME_HEIGHT)) # gives the height of the frame\n",
    "cap.release() #releasing all the instances of the videocapture class\n",
    "cv2.destroyAllWindows() # destroying all the created windows"
   ]
  },
  {
   "cell_type": "code",
   "execution_count": 3,
   "id": "96643cea",
   "metadata": {},
   "outputs": [],
   "source": [
    "cap = cv2.VideoCapture(0)\n",
    "fourcc = cv2.VideoWriter_fourcc(*'XVID') \n",
    "# you can learn about fourcc here\n",
    "# https://docs.opencv.org/3.4/dd/d9e/classcv_1_1VideoWriter.html#afec93f94dc6c0b3e28f4dd153bc5a7f0\n",
    "out = cv2.VideoWriter('savedvideo.mp4',fourcc, 100.0, (640,480)) \n",
    "# the output will be saved as savedvideo.mp4 with an increased speed of 100%(3rd parameter)\n",
    "while(cap.isOpened()):\n",
    "    ret, frame = cap.read()\n",
    "    if ret==True:\n",
    "        frame = cv2.flip(frame,0) # flipping the video upside down\n",
    "        out.write(frame) # Then adding the video frame to output(savedvideo)\n",
    "        gray = cv2.cvtColor(frame, cv2.COLOR_BGR2GRAY) # converting the BGR channel image to gray scale\n",
    "        cv2.imshow('frmae',gray)\n",
    "        if cv2.waitKey(1) & 0xFF == ord('e'):\n",
    "            break\n",
    "    else:\n",
    "        break\n",
    "cap.release()\n",
    "out.release()\n",
    "cv2.destroyAllWindows()\n",
    "# Note that the video saved will be in BGR channel"
   ]
  },
  {
   "cell_type": "code",
   "execution_count": null,
   "id": "09810501",
   "metadata": {},
   "outputs": [],
   "source": []
  }
 ],
 "metadata": {
  "kernelspec": {
   "display_name": "Python 3 (ipykernel)",
   "language": "python",
   "name": "python3"
  },
  "language_info": {
   "codemirror_mode": {
    "name": "ipython",
    "version": 3
   },
   "file_extension": ".py",
   "mimetype": "text/x-python",
   "name": "python",
   "nbconvert_exporter": "python",
   "pygments_lexer": "ipython3",
   "version": "3.9.12"
  }
 },
 "nbformat": 4,
 "nbformat_minor": 5
}
